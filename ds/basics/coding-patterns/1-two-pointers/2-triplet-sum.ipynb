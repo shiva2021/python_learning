{
 "cells": [
  {
   "cell_type": "code",
   "execution_count": 6,
   "metadata": {},
   "outputs": [
    {
     "name": "stdout",
     "output_type": "stream",
     "text": [
      "[[-4, -1, 2], [-1, 1, 2]]\n",
      "None\n"
     ]
    }
   ],
   "source": [
    "def tripletSum(nums:list)-> list:\n",
    "    nums = sorted(nums)\n",
    "    newNums = nums.copy()\n",
    "    finalArr = []\n",
    "    for i in range(len(nums)):\n",
    "        newNums.remove(nums[i])\n",
    "        if i > 0 & nums[i] == nums[i-1]: #check if current is eq. to prev\n",
    "            continue\n",
    "        pairs = findTripleSums(newNums, -nums[i])\n",
    "        if len(pairs) > 0:\n",
    "            for pair in pairs:\n",
    "                finalArr.append([nums[i]] + pair)\n",
    "    print(finalArr)\n",
    "\n",
    "def findTripleSums(nums: list, target:int) -> list:\n",
    "    left = 0\n",
    "    right = len(nums) - 1\n",
    "    result:list = []\n",
    "    while left < right:\n",
    "        if left + right < target:\n",
    "            left += 1\n",
    "        elif left + right > target:\n",
    "            right -= 1\n",
    "        else:\n",
    "            result.append([nums[left], nums[right]])\n",
    "            while left < right and nums[left] == nums[left + 1]:\n",
    "                left += 1\n",
    "            while left < right and nums[right] == nums[right - 1]:\n",
    "                right -= 1\n",
    "            left += 1\n",
    "            right -= 1\n",
    "            \n",
    "    return result\n",
    "\n",
    "print(tripletSum([3,2,4,1,5,6,2,-1,2,-4]))"
   ]
  }
 ],
 "metadata": {
  "kernelspec": {
   "display_name": "venv",
   "language": "python",
   "name": "python3"
  },
  "language_info": {
   "codemirror_mode": {
    "name": "ipython",
    "version": 3
   },
   "file_extension": ".py",
   "mimetype": "text/x-python",
   "name": "python",
   "nbconvert_exporter": "python",
   "pygments_lexer": "ipython3",
   "version": "3.10.4"
  }
 },
 "nbformat": 4,
 "nbformat_minor": 2
}
