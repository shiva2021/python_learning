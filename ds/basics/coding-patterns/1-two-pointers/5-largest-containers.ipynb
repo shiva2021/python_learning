{
 "cells": [
  {
   "cell_type": "code",
   "execution_count": null,
   "metadata": {},
   "outputs": [
    {
     "name": "stdout",
     "output_type": "stream",
     "text": [
      "24\n",
      "0\n",
      "0\n",
      "0\n",
      "9\n",
      "2\n",
      "2\n"
     ]
    }
   ],
   "source": [
    "def largestContainer(num:list) -> int: \n",
    "    left, right = 0, len(num) - 1\n",
    "    maxWater = 0\n",
    "    while left < right:\n",
    "        water = min(num[left], num[right])*(right - left)\n",
    "        maxWater = max(maxWater, water)\n",
    "\n",
    "        if num[left] < num[right] :\n",
    "            left += 1\n",
    "        elif num[left] > num[right] :\n",
    "            right -= 1\n",
    "        else:\n",
    "            left += 1 \n",
    "            right -= 1\n",
    "    return maxWater\n",
    "\n",
    "print(largestContainer([2,7,8,3,7,6]))\n",
    "print(largestContainer([]))\n",
    "print(largestContainer([1]))\n",
    "print(largestContainer([0]))\n",
    "print(largestContainer([3,3,3,3]))\n",
    "print(largestContainer([1,2,3]))\n",
    "print(largestContainer([3,2,1]))\n",
    "\n",
    "        "
   ]
  }
 ],
 "metadata": {
  "kernelspec": {
   "display_name": "venv",
   "language": "python",
   "name": "python3"
  },
  "language_info": {
   "codemirror_mode": {
    "name": "ipython",
    "version": 3
   },
   "file_extension": ".py",
   "mimetype": "text/x-python",
   "name": "python",
   "nbconvert_exporter": "python",
   "pygments_lexer": "ipython3",
   "version": "3.10.4"
  }
 },
 "nbformat": 4,
 "nbformat_minor": 2
}
