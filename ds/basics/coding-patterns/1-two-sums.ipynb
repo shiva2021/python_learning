{
 "cells": [
  {
   "cell_type": "code",
   "execution_count": null,
   "metadata": {},
   "outputs": [],
   "source": [
    "def twoSums(nums:list, target) -> list:\n",
    "    left = 0\n",
    "    right = len(nums) - 1\n",
    "\n",
    "    while left < right:\n",
    "        if nums[right] + nums(left) > target:\n",
    "            right -= 1\n",
    "        elif nums[right] + nums(left) < target:\n",
    "            left += 1\n",
    "        \n",
    "        else:\n",
    "            return [left, right]"
   ]
  }
 ],
 "metadata": {
  "language_info": {
   "name": "python"
  }
 },
 "nbformat": 4,
 "nbformat_minor": 2
}
