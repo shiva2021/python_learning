{
 "cells": [
  {
   "cell_type": "code",
   "execution_count": 30,
   "metadata": {},
   "outputs": [
    {
     "name": "stdout",
     "output_type": "stream",
     "text": [
      "True\n",
      "True\n",
      "True\n",
      "False\n",
      "True\n",
      "True\n",
      "False\n"
     ]
    }
   ],
   "source": [
    "def validPalindrome(words: str) -> bool:\n",
    "    words = list(words.replace(' ', '').lower())\n",
    "    left = 0\n",
    "    right = len(words) - 1\n",
    "\n",
    "    while left < right:\n",
    "        if left < right and not words[left].isalnum():\n",
    "            left += 1\n",
    "        if left < right and not words[right].isalnum():\n",
    "            right -= 1\n",
    "\n",
    "        if words[left] == words[right]: \n",
    "            left += 1\n",
    "            right -= 1\n",
    "        else:\n",
    "            return False\n",
    "        \n",
    "    return True\n",
    "\n",
    "print(validPalindrome('a$bb!a'))\n",
    "print(validPalindrome('A Dog! A panic in a Pagoda'))\n",
    "print(validPalindrome('12.02.2021'))\n",
    "print(validPalindrome('21.01.2021'))\n",
    "print(validPalindrome(''))\n",
    "print(validPalindrome('a'))\n",
    "print(validPalindrome('ab'))"
   ]
  }
 ],
 "metadata": {
  "kernelspec": {
   "display_name": "venv",
   "language": "python",
   "name": "python3"
  },
  "language_info": {
   "codemirror_mode": {
    "name": "ipython",
    "version": 3
   },
   "file_extension": ".py",
   "mimetype": "text/x-python",
   "name": "python",
   "nbconvert_exporter": "python",
   "pygments_lexer": "ipython3",
   "version": "3.10.4"
  }
 },
 "nbformat": 4,
 "nbformat_minor": 2
}
