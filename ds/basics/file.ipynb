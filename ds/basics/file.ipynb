{
 "cells": [
  {
   "cell_type": "code",
   "execution_count": 54,
   "metadata": {},
   "outputs": [
    {
     "name": "stdout",
     "output_type": "stream",
     "text": [
      "[1, 2, 3, 4, 5, 56, 6]\n"
     ]
    }
   ],
   "source": [
    "try:\n",
    "    fb = open('requirements.txt', 'r+')\n",
    "    textArr = fb.readline().split(',')\n",
    "\n",
    "    for i, text in enumerate(textArr):\n",
    "        textArr[i] = int(text)\n",
    "    fb.close()\n",
    "    print(textArr)\n",
    "except Exception as e:\n",
    "    raise e"
   ]
  },
  {
   "cell_type": "code",
   "execution_count": 55,
   "metadata": {},
   "outputs": [
    {
     "name": "stdout",
     "output_type": "stream",
     "text": [
      "An invalid age has been provided\n",
      "An invalid age has been provided\n",
      "An invalid age has been provided\n",
      "An invalid age has been provided\n",
      "An invalid age has been provided\n"
     ]
    }
   ],
   "source": [
    "age = -1\n",
    "while age <=0:\n",
    "    try:\n",
    "        age = int(input('Enter your age: '))\n",
    "    except ValueError as valueError:\n",
    "        print('An invalid age has been provided')\n",
    "        pass\n",
    "    except EOFError as e:\n",
    "        raise e"
   ]
  },
  {
   "cell_type": "code",
   "execution_count": 56,
   "metadata": {},
   "outputs": [
    {
     "name": "stdout",
     "output_type": "stream",
     "text": [
      "1\n",
      "2\n",
      "4\n",
      "5\n",
      "10\n",
      "20\n",
      "25\n",
      "50\n",
      "100\n"
     ]
    }
   ],
   "source": [
    "def factor(n):\n",
    "    k = 1\n",
    "    while k*k < n:\n",
    "        if n % k == 0:\n",
    "            yield k\n",
    "            yield n // k\n",
    "        k += 1\n",
    "\n",
    "    if k * k == n:\n",
    "        yield k\n",
    "\n",
    "\n",
    "for num in sorted(factor(100)):\n",
    "    print(num)"
   ]
  },
  {
   "cell_type": "code",
   "execution_count": 57,
   "metadata": {},
   "outputs": [
    {
     "name": "stdout",
     "output_type": "stream",
     "text": [
      "12 12\n"
     ]
    }
   ],
   "source": [
    "name = input(\"Enter your naem\")\n",
    "email = input(\"Enter your email\")\n",
    "print(name, email)"
   ]
  },
  {
   "cell_type": "code",
   "execution_count": 58,
   "metadata": {},
   "outputs": [
    {
     "name": "stdout",
     "output_type": "stream",
     "text": [
      "Shivang Chaturvedi\n",
      "12345\n",
      "HDFC0008988911\n"
     ]
    }
   ],
   "source": [
    "class Customer: \n",
    "    def __init__(self, customer_name, customer_id, account):\n",
    "        self.customer_id = customer_id\n",
    "        self.customer_name = customer_name\n",
    "        self.account = account\n",
    "\n",
    "    def printCustomerData(self):\n",
    "        print(self.customer_name)\n",
    "        print(self.customer_id)\n",
    "        print(self.account)\n",
    "\n",
    "newCustomer = Customer(\"Shivang Chaturvedi\", \"12345\", \"HDFC0008988911\")\n",
    "newCustomer.printCustomerData()"
   ]
  },
  {
   "cell_type": "code",
   "execution_count": 59,
   "metadata": {},
   "outputs": [
    {
     "name": "stdout",
     "output_type": "stream",
     "text": [
      "The final balance for account number 1122334455 belonging to Mr/Mrs Shivang Chaturvedi after deposit is - $35897833\n",
      "The available balance is less than the withdrawl amount.\n",
      "The final balance for account number 1122334455 belonging to Mr/Mrs Shivang Chaturvedi after withdrawl is - $-19737691\n"
     ]
    }
   ],
   "source": [
    "class BankAccount:\n",
    "    def __init__(self, account_holder, account_number, account_type, account_balance=0):\n",
    "        self.account_holder = account_holder\n",
    "        self.account_number = account_number\n",
    "        self.account_type = account_type\n",
    "        self.account_balance = account_balance\n",
    "        \n",
    "    def deposit(self, amount):\n",
    "        self.account_balance += amount\n",
    "        self.printBalance(\"deposit\")\n",
    "\n",
    "    def withdrawl(self, amount):\n",
    "        if amount == 0:\n",
    "            return \n",
    "        if amount > self.account_balance:\n",
    "            print(f\"The available balance is less than the withdrawl amount.\")\n",
    "        self.account_balance -= amount\n",
    "        self.printBalance(\"withdrawl\")\n",
    "    \n",
    "    def printBalance(self, operation):\n",
    "        print(f'The final balance for account number {self.account_number} belonging to Mr/Mrs {self.account_holder} after {operation} is - ${self.account_balance}')\n",
    "\n",
    "newAccount = BankAccount(\"Shivang Chaturvedi\", \"1122334455\", \"Savings\", 2464566)\n",
    "newAccount.withdrawl(0)\n",
    "newAccount.deposit(33433267)\n",
    "newAccount.withdrawl(55635524)"
   ]
  },
  {
   "cell_type": "code",
   "execution_count": null,
   "metadata": {},
   "outputs": [],
   "source": []
  },
  {
   "cell_type": "markdown",
   "metadata": {},
   "source": [
    "TWO SUMS"
   ]
  },
  {
   "cell_type": "code",
   "execution_count": 60,
   "metadata": {},
   "outputs": [
    {
     "data": {
      "text/plain": [
       "[0, 1]"
      ]
     },
     "execution_count": 60,
     "metadata": {},
     "output_type": "execute_result"
    }
   ],
   "source": [
    "\n",
    "def twoSum(nums: list[int], target: int) -> list[int]:\n",
    "        numMap = {}\n",
    "\n",
    "        for i, num in enumerate(nums):\n",
    "            complement = target - num\n",
    "            if complement in numMap:\n",
    "                return [numMap[complement], i]\n",
    "            numMap[num] = i\n",
    "\n",
    "        return []\n",
    "\n",
    "twoSum([2,7,11,15], 9)"
   ]
  },
  {
   "cell_type": "code",
   "execution_count": 61,
   "metadata": {},
   "outputs": [
    {
     "data": {
      "text/plain": [
       "True"
      ]
     },
     "execution_count": 61,
     "metadata": {},
     "output_type": "execute_result"
    }
   ],
   "source": [
    "def isPalindrome( x: int) -> bool:\n",
    "        s = str(x)\n",
    "        s[::-1]  \n",
    "        return s == s[::-1]\n",
    "isPalindrome(121)"
   ]
  },
  {
   "cell_type": "code",
   "execution_count": 62,
   "metadata": {},
   "outputs": [
    {
     "name": "stdout",
     "output_type": "stream",
     "text": [
      "['s', 'h', 'i', 'v', 'a', 'n', 'g', ' ', '{', 's', 'u', 'r', 'n', 'a', 'm', 'e', '}']\n",
      "}mnu{gais\n",
      "v\n",
      "V\n",
      "shivang chaturvedi\n",
      "{'apple', 34, 'shivang chaturvedi'}\n",
      "None {'banana', 'apple', 34, 'shivang chaturvedi'}\n",
      "None {'apple', 34, 'shivang chaturvedi'}\n",
      "None {34, 'apple', 'shivang chaturvedi', 'tipu'}\n",
      "['s', 'h', 'i', 'v', 'a', 'n', 'g', ' ', 'c', 'h', 'a', 't', 'u', 'r', 'v', 'e', 'd', 'i']\n"
     ]
    }
   ],
   "source": [
    "s = 'shivang {surname}'\n",
    "\n",
    "print(list(s))\n",
    "print(s[::-2])\n",
    "print(s[3:4:])\n",
    "\n",
    "\n",
    "print(s[3:4:].capitalize())\n",
    "string = s.format(surname='chaturvedi')\n",
    "print(string)\n",
    "\n",
    "\n",
    "mySet = set(('shivang chaturvedi', 34, 'apple'))\n",
    "print(mySet)\n",
    "print(mySet.add('banana'), mySet)\n",
    "print(mySet.discard('banana'), mySet)\n",
    "print(mySet.update(['tipu']), mySet)\n",
    "\n",
    "a = [word for word in string if 's' in string]\n",
    "print(a)"
   ]
  },
  {
   "cell_type": "code",
   "execution_count": 63,
   "metadata": {},
   "outputs": [
    {
     "data": {
      "text/plain": [
       "False"
      ]
     },
     "execution_count": 63,
     "metadata": {},
     "output_type": "execute_result"
    }
   ],
   "source": [
    "def palindrome(s) ->bool :\n",
    "    return s[::-1] == s\n",
    "\n",
    "palindrome('shivang')"
   ]
  },
  {
   "cell_type": "code",
   "execution_count": 64,
   "metadata": {},
   "outputs": [
    {
     "name": "stdout",
     "output_type": "stream",
     "text": [
      "[]\n"
     ]
    }
   ],
   "source": [
    "def pairSum(num: list, target:int) -> list :\n",
    "    left = 0\n",
    "    right = len(num) - 1\n",
    "    while left < right:\n",
    "        sum = num[left] + num[right]\n",
    "        if sum > target:\n",
    "            right -= 1\n",
    "        elif sum < target:\n",
    "            left += 1\n",
    "        else:\n",
    "            return [num[left], num[right]]\n",
    "    \n",
    "    return []\n",
    "\n",
    "print(pairSum([-1,0,1,2,3,4], 12))\n"
   ]
  },
  {
   "cell_type": "code",
   "execution_count": null,
   "metadata": {},
   "outputs": [
    {
     "name": "stdout",
     "output_type": "stream",
     "text": [
      "[[-1, -1, 2]]\n",
      "None\n",
      "[]\n",
      "None\n",
      "[[-1, 0, 1]]\n",
      "None\n",
      "[[0, 0, 0]]\n",
      "None\n"
     ]
    }
   ],
   "source": [
    "def findTriplets( nums: list) -> list :\n",
    "    nums = sorted(nums)\n",
    "    newArry = nums.copy()\n",
    "    finalArr = []\n",
    "    for i in range(len(nums)):\n",
    "        newArry.remove(nums[i])\n",
    "        if i > 0 and nums[i] == nums[i-1]:\n",
    "            continue\n",
    "        \n",
    "        result = pairSum(newArry, -nums[i])\n",
    "        if len(result) > 0:\n",
    "            \n",
    "            for pair in result:\n",
    "                finalArr.append([nums[i]] + pair)\n",
    "    print(finalArr)\n",
    "\n",
    "def pairSum(num: list, target:int) -> list :\n",
    "    result = []\n",
    "    left = 0\n",
    "    right = len(num) - 1\n",
    "    while left < right:\n",
    "        sum = num[left] + num[right]\n",
    "        if sum > target:\n",
    "            right -= 1\n",
    "        elif sum < target:\n",
    "            left += 1\n",
    "        else:\n",
    "            result.append([num[left], num[right]])\n",
    "            while left < right and num[left] == num[left + 1]:\n",
    "                left += 1\n",
    "            while left < right and num[right] == num[right - 1]:\n",
    "                right -= 1\n",
    "            left += 1\n",
    "            right -= 1\n",
    "    return result\n",
    "\n",
    "print(findTriplets([-1,2,-2,1,-1,2]))\n",
    "print(findTriplets([1,0,1]))\n",
    "print(findTriplets([0,0,1,-1,1,-1]))\n",
    "print(findTriplets([0,0,0]))"
   ]
  },
  {
   "cell_type": "code",
   "execution_count": null,
   "metadata": {},
   "outputs": [],
   "source": []
  }
 ],
 "metadata": {
  "kernelspec": {
   "display_name": "venv",
   "language": "python",
   "name": "python3"
  },
  "language_info": {
   "codemirror_mode": {
    "name": "ipython",
    "version": 3
   },
   "file_extension": ".py",
   "mimetype": "text/x-python",
   "name": "python",
   "nbconvert_exporter": "python",
   "pygments_lexer": "ipython3",
   "version": "3.10.4"
  }
 },
 "nbformat": 4,
 "nbformat_minor": 2
}
