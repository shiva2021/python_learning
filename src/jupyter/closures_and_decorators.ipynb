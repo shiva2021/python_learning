{
 "cells": [
  {
   "cell_type": "code",
   "execution_count": 1,
   "metadata": {},
   "outputs": [
    {
     "name": "stdout",
     "output_type": "stream",
     "text": [
      "This is a cool main text and this is cool subtext\n"
     ]
    }
   ],
   "source": [
    "def mainFunction(text):\n",
    "    def subFunction(subtext):\n",
    "        return f\"This is a {text} and this is {subtext}\"\n",
    "    return subFunction\n",
    "\n",
    "print(mainFunction('cool main text')('cool subtext'))"
   ]
  },
  {
   "cell_type": "markdown",
   "metadata": {},
   "source": [
    "## Decorators"
   ]
  },
  {
   "cell_type": "code",
   "execution_count": 7,
   "metadata": {},
   "outputs": [
    {
     "name": "stdout",
     "output_type": "stream",
     "text": [
      "this is sooooooo cool!!\n",
      "this is sooooooo cool!!\n"
     ]
    }
   ],
   "source": [
    "def main_function(func):\n",
    "    func()\n",
    "\n",
    "@main_function\n",
    "def some_random_function():\n",
    "    print(\"this is sooooooo cool!!\")\n",
    "\n",
    "##  This is same as\n",
    "\n",
    "def some_random_function():\n",
    "    print(\"this is sooooooo cool!!\")\n",
    "\n",
    "main_function(some_random_function)"
   ]
  },
  {
   "cell_type": "code",
   "execution_count": 25,
   "metadata": {},
   "outputs": [
    {
     "name": "stdout",
     "output_type": "stream",
     "text": [
      "This message should appear and make youm disappear!! Hola\n",
      "I will print a new line and this magic be your greatest find\n",
      "Close this parenthesis and smiling everyday is your life catharsis\n"
     ]
    }
   ],
   "source": [
    "def main_function(func):\n",
    "    def secondary_function(str):\n",
    "        print(\"This message should appear and make youm disappear!! Hola\")\n",
    "        func(str)\n",
    "        print(\"Close this parenthesis and smiling everyday is your life catharsis\")\n",
    "    return secondary_function\n",
    "\n",
    "@main_function\n",
    "def new_function(str):\n",
    "    print(f\"I will print a new {str} and this magic be your greatest find\")\n",
    "\n",
    "\n",
    "new_function(\"line\")\n"
   ]
  },
  {
   "cell_type": "code",
   "execution_count": null,
   "metadata": {},
   "outputs": [],
   "source": []
  }
 ],
 "metadata": {
  "kernelspec": {
   "display_name": ".venv",
   "language": "python",
   "name": "python3"
  },
  "language_info": {
   "codemirror_mode": {
    "name": "ipython",
    "version": 3
   },
   "file_extension": ".py",
   "mimetype": "text/x-python",
   "name": "python",
   "nbconvert_exporter": "python",
   "pygments_lexer": "ipython3",
   "version": "3.11.7"
  }
 },
 "nbformat": 4,
 "nbformat_minor": 2
}
