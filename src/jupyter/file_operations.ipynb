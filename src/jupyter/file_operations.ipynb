{
 "cells": [
  {
   "cell_type": "code",
   "execution_count": 18,
   "metadata": {},
   "outputs": [
    {
     "name": "stdout",
     "output_type": "stream",
     "text": [
      "This is a very big test file with one single sentence!\n",
      "Yo Yo Yo Nigga!!!\n"
     ]
    }
   ],
   "source": [
    "with open('../../test-files/example-file-1.txt', 'r') as file:\n",
    "        content = file.read()\n",
    "        print(content)"
   ]
  },
  {
   "cell_type": "code",
   "execution_count": 19,
   "metadata": {},
   "outputs": [
    {
     "name": "stdout",
     "output_type": "stream",
     "text": [
      "This is a very big test file with one single sentence!\n",
      "\n",
      "Yo Yo Yo Nigga!!!\n"
     ]
    }
   ],
   "source": [
    "\n",
    "with open('../../test-files/example-file-1.txt', 'r') as file:\n",
    "    for line in file:\n",
    "        print(line)"
   ]
  },
  {
   "cell_type": "code",
   "execution_count": 20,
   "metadata": {},
   "outputs": [
    {
     "name": "stdout",
     "output_type": "stream",
     "text": [
      "This is a very big test file with one single sentence!\n",
      "Yo Yo Yo Nigga!!!\n"
     ]
    }
   ],
   "source": [
    "## Lets remove the new line character\n",
    "with open('../../test-files/example-file-1.txt', 'r') as file:\n",
    "    for line in file:\n",
    "        print(line.strip())"
   ]
  },
  {
   "cell_type": "code",
   "execution_count": 26,
   "metadata": {},
   "outputs": [],
   "source": [
    "## Append new content to an existing file\n",
    "with open('../../test-files/example-file-1.txt','a') as file:\n",
    "    file.write('\\nThis is a new line')"
   ]
  },
  {
   "cell_type": "code",
   "execution_count": 30,
   "metadata": {},
   "outputs": [
    {
     "name": "stdout",
     "output_type": "stream",
     "text": [
      "This is line 1.\n",
      "This is line 2\n",
      "This is line 3\n"
     ]
    }
   ],
   "source": [
    "#Lets create a new file and perform both read and write operation \n",
    "\n",
    "with open('../../test-files/example-file-1.txt', 'w+') as file:\n",
    "        lines = ['This is line 1.\\n', 'This is line 2\\n', 'This is line 3']\n",
    "        file.writelines(lines)\n",
    "\n",
    "        file.seek(0) #To being the curson in the very beginning\n",
    "\n",
    "        content = file.read()\n",
    "        print(content)\n"
   ]
  },
  {
   "cell_type": "code",
   "execution_count": 60,
   "metadata": {},
   "outputs": [
    {
     "name": "stdout",
     "output_type": "stream",
     "text": [
      "This Vehical Merc sounds like poop\n"
     ]
    }
   ],
   "source": [
    "from abc import ABC, abstractmethod\n",
    "class Vehical(ABC):\n",
    "    def __init__(self, vehicalType, model):\n",
    "        self.vehicalType = vehicalType\n",
    "        self.model = model\n",
    "\n",
    "    @abstractmethod ## Make the implementation of this method mendatory in the child class\n",
    "    def sound(self):\n",
    "        print(f'This Vehical {self.vehicalType} sounds like poop')\n",
    "\n",
    "class Car(Vehical):\n",
    "    def __init__(self,vehicalType, model):\n",
    "        super().__init__(vehicalType, model)\n",
    "    def sound(self):\n",
    "        return super().sound()\n",
    "\n",
    "\n",
    "Merc = Car('Merc', 'E')\n",
    "\n",
    "Merc.sound()"
   ]
  },
  {
   "cell_type": "code",
   "execution_count": 79,
   "metadata": {},
   "outputs": [
    {
     "name": "stdout",
     "output_type": "stream",
     "text": [
      "Vector(8,22)\n",
      "Vector(16,14)\n"
     ]
    }
   ],
   "source": [
    "\n",
    "class Vector():\n",
    "    def __init__(self, x, y):\n",
    "        self.x = x\n",
    "        self.y = y\n",
    "\n",
    "    def __add__(self, other): \n",
    "        return Vector(self.x + other.x, self.y + other.y)\n",
    "    \n",
    "    def __sub__(self, other):\n",
    "        return Vector(abs(self.x - other.y), abs(self.y - other.y))\n",
    "    \n",
    "    def __repr__(self) -> str:\n",
    "        return f\"Vector({self.x},{self.y})\"\n",
    "\n",
    "vec1 = Vector(2, 4)\n",
    "vec2 = Vector(6, 18)\n",
    "\n",
    "\n",
    "print(vec1 + vec2)\n",
    "print(vec1 - vec2)\n"
   ]
  }
 ],
 "metadata": {
  "kernelspec": {
   "display_name": ".venv",
   "language": "python",
   "name": "python3"
  },
  "language_info": {
   "codemirror_mode": {
    "name": "ipython",
    "version": 3
   },
   "file_extension": ".py",
   "mimetype": "text/x-python",
   "name": "python",
   "nbconvert_exporter": "python",
   "pygments_lexer": "ipython3",
   "version": "3.11.7"
  }
 },
 "nbformat": 4,
 "nbformat_minor": 2
}
