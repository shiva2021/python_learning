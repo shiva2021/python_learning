{
 "cells": [
  {
   "cell_type": "markdown",
   "metadata": {},
   "source": [
    "#### Practice Problems\n",
    "\n",
    "### Problem 1: \n",
    "Write a function that takes a list of numbers and returns a new list with each number squared. Use the map function.\n",
    "\n",
    "\n",
    "### Problem 2:\n",
    "Write a function that takes a list of strings and converts each string to uppercase using map.\n",
    "\n",
    "\n",
    "### Problem 3: \n",
    "You have two lists of the same length. Write a function that adds corresponding elements from the two lists and returns the result using map.\n",
    "\n",
    "\n",
    "### Problem 4: \n",
    "Write a function that converts a list of strings containing numbers (e.g., [\"1\", \"2\", \"3\"]) into a list of integers using map.\n",
    "\n",
    "\n",
    "### Problem 5: \n",
    "Write a function that takes a list of numbers and returns the absolute value of each number using map.\n",
    "\n",
    "\n",
    "### Problem 6: \n",
    "Given a list of tuples, where each tuple contains two numbers (e.g., [(1, 2), (3, 4)]), write a function that uses map to calculate the sum of each tuple.\n",
    "\n",
    "\n",
    "### Problem 7: \n",
    "Write a function that takes a list of booleans and returns a list of their negations (True becomes False and False becomes True) using map.\n",
    "\n",
    "\n",
    "### Problem 8: \n",
    "Write a function that takes a list of floating-point numbers and rounds each number to the nearest integer using map.\n",
    "\n",
    "\n",
    "### Problem 9: \n",
    "Write a function that takes a list of names and returns the length of each name using map.\n",
    "\n",
    "\n",
    "### Problem 10: \n",
    "Write a function that takes two lists of numbers and returns a list of the maximum value at each index using map."
   ]
  },
  {
   "cell_type": "code",
   "execution_count": 6,
   "metadata": {},
   "outputs": [
    {
     "name": "stdout",
     "output_type": "stream",
     "text": [
      "[25, 16, 25, 36, 49]\n"
     ]
    }
   ],
   "source": [
    "squared_number = lambda num: num*num\n",
    "print(list(map(squared_number, [5, 4,5,6,7])))"
   ]
  },
  {
   "cell_type": "markdown",
   "metadata": {},
   "source": [
    "2. Write a function that takes a list of strings and converts each string to uppercase using map."
   ]
  },
  {
   "cell_type": "code",
   "execution_count": 7,
   "metadata": {},
   "outputs": [
    {
     "name": "stdout",
     "output_type": "stream",
     "text": [
      "['APPLE', 'BANANA', 'CHERRY']\n"
     ]
    }
   ],
   "source": [
    "capitaliseStrings = lambda string: string.upper()\n",
    "\n",
    "print(list(map(capitaliseStrings, [\"apple\", \"banana\", \"cherry\"])))"
   ]
  },
  {
   "cell_type": "markdown",
   "metadata": {},
   "source": [
    "3. You have two lists of the same length. Write a function that adds corresponding elements from the two lists and returns the result using map."
   ]
  },
  {
   "cell_type": "code",
   "execution_count": 8,
   "metadata": {},
   "outputs": [],
   "source": [
    "nums1 = [1, 2, 3]\n",
    "nums2 = [4, 5, 6]\n",
    "\n",
    "def addLists(list1, list2):\n",
    "    if len(list1) != len(list2): return []\n",
    "    \n",
    "    addedList = []\n",
    "    \n",
    "    i=0\n",
    "    while i < len(list1):\n",
    "        addedList.append(list1[i] + list2[i] )\n",
    "        i+=1\n",
    "    \n",
    "    return addedList\n",
    "\n"
   ]
  },
  {
   "cell_type": "code",
   "execution_count": 9,
   "metadata": {},
   "outputs": [
    {
     "name": "stdout",
     "output_type": "stream",
     "text": [
      "[5, 7, 9]\n"
     ]
    }
   ],
   "source": [
    "add_lists_map = lambda list1, list2: list(map(lambda x, y: x + y, list1, list2))\n",
    "\n",
    "result = add_lists_map(nums1, nums2)\n",
    "print(result)"
   ]
  },
  {
   "cell_type": "code",
   "execution_count": 10,
   "metadata": {},
   "outputs": [
    {
     "name": "stdout",
     "output_type": "stream",
     "text": [
      "[1, 2, 3]\n"
     ]
    }
   ],
   "source": [
    "# Write a function that converts a list of strings containing numbers (e.g., [\"1\", \"2\", \"3\"]) into a list of integers using map.\n",
    "\n",
    "numberList =[\"1\", \"2\", \"3\"]\n",
    "\n",
    "stringToInt = lambda str : int(str)\n",
    "\n",
    "print(list(map(stringToInt, numberList)))"
   ]
  },
  {
   "cell_type": "code",
   "execution_count": 11,
   "metadata": {},
   "outputs": [
    {
     "name": "stdout",
     "output_type": "stream",
     "text": [
      "[5, 3, 0, 2, 4]\n"
     ]
    }
   ],
   "source": [
    "# Write a function that takes a list of numbers and returns the absolute value of each number using map.\n",
    "\n",
    "randomNumbers = [-5, -3, 0, 2, 4]\n",
    "getAbsoluteValue = lambda num: abs(num)\n",
    "print(list(map(getAbsoluteValue, randomNumbers)))"
   ]
  },
  {
   "cell_type": "code",
   "execution_count": 12,
   "metadata": {},
   "outputs": [
    {
     "name": "stdout",
     "output_type": "stream",
     "text": [
      "[3, 7]\n"
     ]
    }
   ],
   "source": [
    "# Given a list of tuples, where each tuple contains two numbers (e.g., [(1, 2), (3, 4)]), write a function that uses map to calculate the sum of each tuple.\n",
    "\n",
    "tupleList = [(1, 2), (3, 4)]\n",
    "def addTupleValues(t):\n",
    "    return t[0] + t[1]\n",
    "\n",
    "print(list(map(addTupleValues, tupleList)))"
   ]
  },
  {
   "cell_type": "code",
   "execution_count": 13,
   "metadata": {},
   "outputs": [
    {
     "name": "stdout",
     "output_type": "stream",
     "text": [
      "[False, True, False, True, True]\n"
     ]
    }
   ],
   "source": [
    "# Write a function that takes a list of booleans and returns a list of their negations (True becomes False and False becomes True) using map.\n",
    "\n",
    "booleanList = [True, False, True, False, False]\n",
    "booleanNegation = lambda bool: not bool\n",
    "print(list(map(booleanNegation, booleanList)))"
   ]
  },
  {
   "cell_type": "code",
   "execution_count": 14,
   "metadata": {},
   "outputs": [
    {
     "name": "stdout",
     "output_type": "stream",
     "text": [
      "[1, 2, 4, 4]\n"
     ]
    }
   ],
   "source": [
    "# Write a function that takes a list of floating-point numbers and rounds each number to the nearest integer using map.\n",
    "\n",
    "floatingNumbers= [1.2, 2.5, 3.7, 4.0]\n",
    "\n",
    "getNearestInt = lambda num : round(num)\n",
    "print(list(map(getNearestInt, floatingNumbers)))"
   ]
  },
  {
   "cell_type": "code",
   "execution_count": 15,
   "metadata": {},
   "outputs": [
    {
     "name": "stdout",
     "output_type": "stream",
     "text": [
      "[5, 3, 7]\n"
     ]
    }
   ],
   "source": [
    "# Write a function that takes a list of names and returns the length of each name using map.\n",
    "\n",
    "names = [\"Alice\", \"Bob\", \"Charlie\"]\n",
    "getNameLength = lambda name : len(name)\n",
    "print(list(map(getNameLength, names)))"
   ]
  },
  {
   "cell_type": "code",
   "execution_count": 16,
   "metadata": {},
   "outputs": [
    {
     "name": "stdout",
     "output_type": "stream",
     "text": [
      "[3, 6, 7]\n"
     ]
    }
   ],
   "source": [
    "# Write a function that takes two lists of numbers and returns a list of the maximum value at each index using map.\n",
    "\n",
    "list1 = [3, 5, 7]\n",
    "list2 = [1, 6, 4]\n",
    "\n",
    "maxNumbers = lambda list1, list2 : list(map((lambda x, y: x if x > y else y), list1, list2))\n",
    "print(maxNumbers(list1, list2))"
   ]
  }
 ],
 "metadata": {
  "kernelspec": {
   "display_name": "venv",
   "language": "python",
   "name": "python3"
  },
  "language_info": {
   "codemirror_mode": {
    "name": "ipython",
    "version": 3
   },
   "file_extension": ".py",
   "mimetype": "text/x-python",
   "name": "python",
   "nbconvert_exporter": "python",
   "pygments_lexer": "ipython3",
   "version": "3.10.4"
  }
 },
 "nbformat": 4,
 "nbformat_minor": 2
}
